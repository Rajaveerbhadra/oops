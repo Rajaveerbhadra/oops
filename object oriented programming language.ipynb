{
 "cells": [
  {
   "cell_type": "code",
   "execution_count": 1,
   "id": "5ad0e188-f451-4b96-9664-57519b679e8e",
   "metadata": {},
   "outputs": [],
   "source": [
    "a = 1\n"
   ]
  },
  {
   "cell_type": "code",
   "execution_count": 2,
   "id": "f91aa3c2-e404-4f0e-8c78-e83ec3e09a41",
   "metadata": {},
   "outputs": [
    {
     "name": "stdout",
     "output_type": "stream",
     "text": [
      "<class 'int'>\n"
     ]
    }
   ],
   "source": [
    "print(type(a))"
   ]
  },
  {
   "cell_type": "code",
   "execution_count": 3,
   "id": "9ee30589-201d-4a30-a472-3895ff609b5a",
   "metadata": {},
   "outputs": [
    {
     "name": "stdout",
     "output_type": "stream",
     "text": [
      "<class 'str'>\n"
     ]
    }
   ],
   "source": [
    "print(type(\"pwskills\"))"
   ]
  },
  {
   "cell_type": "code",
   "execution_count": 5,
   "id": "14fc7342-9926-414e-85ee-f42954464405",
   "metadata": {},
   "outputs": [],
   "source": [
    "class test:\n",
    "    pass"
   ]
  },
  {
   "cell_type": "code",
   "execution_count": 6,
   "id": "18494cc5-9bc3-4e32-abec-f36dd000643b",
   "metadata": {},
   "outputs": [],
   "source": [
    "a = test()"
   ]
  },
  {
   "cell_type": "code",
   "execution_count": 7,
   "id": "3410e612-7871-4262-af46-36f43cb59534",
   "metadata": {},
   "outputs": [
    {
     "data": {
      "text/plain": [
       "__main__.test"
      ]
     },
     "execution_count": 7,
     "metadata": {},
     "output_type": "execute_result"
    }
   ],
   "source": [
    "type(a)"
   ]
  },
  {
   "cell_type": "code",
   "execution_count": 9,
   "id": "7846da7c-2152-46aa-beb7-7512126f2af1",
   "metadata": {},
   "outputs": [
    {
     "name": "stdout",
     "output_type": "stream",
     "text": [
      "<class '__main__.test'>\n"
     ]
    }
   ],
   "source": [
    "print(type(a))"
   ]
  },
  {
   "cell_type": "code",
   "execution_count": 13,
   "id": "398b4df2-edf8-4888-a20c-d18fb78c0581",
   "metadata": {},
   "outputs": [],
   "source": [
    "class pwskills:\n",
    "    \n",
    "    def welcome_msg(self):\n",
    "        print(\"welcome to pw skills\")"
   ]
  },
  {
   "cell_type": "code",
   "execution_count": 16,
   "id": "31a66045-f199-45e9-9fb2-d3e2edeb2287",
   "metadata": {},
   "outputs": [],
   "source": [
    "rohan = pwskills()"
   ]
  },
  {
   "cell_type": "code",
   "execution_count": 17,
   "id": "ad0db1b8-f70a-41f7-a558-75ace98ced70",
   "metadata": {},
   "outputs": [
    {
     "name": "stdout",
     "output_type": "stream",
     "text": [
      "welcome to pw skills\n"
     ]
    }
   ],
   "source": [
    "rohan.welcome_msg()"
   ]
  },
  {
   "cell_type": "code",
   "execution_count": 18,
   "id": "c20a6c2f-04ac-488f-aaa8-688520d403bf",
   "metadata": {},
   "outputs": [],
   "source": [
    "sohan = pwskills()\n"
   ]
  },
  {
   "cell_type": "code",
   "execution_count": 19,
   "id": "663d89a8-745a-4438-8137-b7fa3731f850",
   "metadata": {},
   "outputs": [
    {
     "name": "stdout",
     "output_type": "stream",
     "text": [
      "welcome to pw skills\n"
     ]
    }
   ],
   "source": [
    "sohan.welcome_msg()"
   ]
  },
  {
   "cell_type": "code",
   "execution_count": 20,
   "id": "4316e73e-94f5-474d-8b15-f6d846b3af42",
   "metadata": {},
   "outputs": [],
   "source": [
    "a = 1"
   ]
  },
  {
   "cell_type": "code",
   "execution_count": 21,
   "id": "b7576eb9-9aef-496a-b6ca-c29251a18362",
   "metadata": {},
   "outputs": [],
   "source": [
    "b = 2"
   ]
  },
  {
   "cell_type": "code",
   "execution_count": 22,
   "id": "5095fa54-6bd1-449a-a6ba-69601cac0af0",
   "metadata": {},
   "outputs": [
    {
     "data": {
      "text/plain": [
       "1"
      ]
     },
     "execution_count": 22,
     "metadata": {},
     "output_type": "execute_result"
    }
   ],
   "source": [
    "a "
   ]
  },
  {
   "cell_type": "code",
   "execution_count": 23,
   "id": "2f08fd02-afb7-4c31-bb12-bfe539452999",
   "metadata": {},
   "outputs": [
    {
     "data": {
      "text/plain": [
       "2"
      ]
     },
     "execution_count": 23,
     "metadata": {},
     "output_type": "execute_result"
    }
   ],
   "source": [
    "b"
   ]
  },
  {
   "cell_type": "code",
   "execution_count": 28,
   "id": "4d666095-4483-46a0-ab3d-5162921577b3",
   "metadata": {},
   "outputs": [],
   "source": [
    "class pwskills:\n",
    "    \n",
    "    def __init__(self ,phone_number , email_id , student_id ):\n",
    "        self.phone_number = phone_number\n",
    "        self.email_id = email_id\n",
    "        self.student_id = student_id\n",
    "        \n",
    "    def return_student_details(self):\n",
    "        return self.phone_number,self.email_id,self.student_id"
   ]
  },
  {
   "cell_type": "code",
   "execution_count": 32,
   "id": "a72e8452-c1a7-4f5e-a093-e6dd5b72ff29",
   "metadata": {},
   "outputs": [],
   "source": [
    "rohan = pwskills(7020663572, \"prasad1@gmail.com\",101)"
   ]
  },
  {
   "cell_type": "code",
   "execution_count": 33,
   "id": "57556b21-2aaf-47e5-9c4a-5bfdbfa9fa10",
   "metadata": {},
   "outputs": [],
   "source": [
    "mohan =pwskills(917296,\"prasadsh1@gmail.com\",102)"
   ]
  },
  {
   "cell_type": "code",
   "execution_count": 34,
   "id": "0ef2090a-3778-4607-99cf-62d778c00997",
   "metadata": {},
   "outputs": [
    {
     "data": {
      "text/plain": [
       "7020663572"
      ]
     },
     "execution_count": 34,
     "metadata": {},
     "output_type": "execute_result"
    }
   ],
   "source": [
    "rohan.phone_number"
   ]
  },
  {
   "cell_type": "code",
   "execution_count": 35,
   "id": "6dbaab24-1a24-4295-a741-ebd6584a89da",
   "metadata": {},
   "outputs": [
    {
     "data": {
      "text/plain": [
       "(7020663572, 'prasad1@gmail.com', 101)"
      ]
     },
     "execution_count": 35,
     "metadata": {},
     "output_type": "execute_result"
    }
   ],
   "source": [
    "rohan.return_student_details()"
   ]
  },
  {
   "cell_type": "code",
   "execution_count": 36,
   "id": "4da214fc-e803-4d61-8d41-1779f8931b41",
   "metadata": {},
   "outputs": [],
   "source": [
    "mohan = pwskills(121212,\"sha1@gmail.com\",103)"
   ]
  },
  {
   "cell_type": "code",
   "execution_count": 37,
   "id": "38fafae8-17f3-42e4-bbb6-3cf81ffc8fda",
   "metadata": {},
   "outputs": [
    {
     "data": {
      "text/plain": [
       "103"
      ]
     },
     "execution_count": 37,
     "metadata": {},
     "output_type": "execute_result"
    }
   ],
   "source": [
    "mohan.student_id"
   ]
  },
  {
   "cell_type": "code",
   "execution_count": 39,
   "id": "f3bb84d9-313a-48a7-8da4-ddd762db0534",
   "metadata": {},
   "outputs": [
    {
     "data": {
      "text/plain": [
       "'sha1@gmail.com'"
      ]
     },
     "execution_count": 39,
     "metadata": {},
     "output_type": "execute_result"
    }
   ],
   "source": [
    "mohan.email_id"
   ]
  },
  {
   "cell_type": "code",
   "execution_count": 41,
   "id": "2e024d56-f6ea-4ebc-9a69-f902ed6d2751",
   "metadata": {},
   "outputs": [
    {
     "data": {
      "text/plain": [
       "(121212, 'sha1@gmail.com', 103)"
      ]
     },
     "execution_count": 41,
     "metadata": {},
     "output_type": "execute_result"
    }
   ],
   "source": [
    "mohan.return_student_details()"
   ]
  },
  {
   "cell_type": "code",
   "execution_count": 42,
   "id": "cb39a837-12b6-4f94-aabe-167fa4eb6300",
   "metadata": {},
   "outputs": [],
   "source": [
    "class pwskills3:\n",
    "    \n",
    "    def __init__(pras ,phone_number , email_id , student_id ):\n",
    "        pras.phone_number = phone_number\n",
    "        pras.email_id = email_id\n",
    "        pras.student_id = student_id\n",
    "        \n",
    "    def return_student_details(pras):\n",
    "        return pras.phone_number,pras.email_id,pras.student_id"
   ]
  },
  {
   "cell_type": "code",
   "execution_count": 43,
   "id": "c264b973-f1b2-49d4-a605-ad743c90b763",
   "metadata": {},
   "outputs": [],
   "source": [
    "soham = pwskills(635646,\"pavy@gmail.com\",105)"
   ]
  },
  {
   "cell_type": "code",
   "execution_count": 44,
   "id": "9b4af870-a546-4dbc-bd96-2305bfa85315",
   "metadata": {},
   "outputs": [
    {
     "data": {
      "text/plain": [
       "(635646, 'pavy@gmail.com', 105)"
      ]
     },
     "execution_count": 44,
     "metadata": {},
     "output_type": "execute_result"
    }
   ],
   "source": [
    "soham.return_student_details()"
   ]
  },
  {
   "cell_type": "code",
   "execution_count": 50,
   "id": "e5943e33-fd29-4339-902b-c550522701cb",
   "metadata": {},
   "outputs": [
    {
     "ename": "NameError",
     "evalue": "name 'pwskills3' is not defined",
     "output_type": "error",
     "traceback": [
      "\u001b[0;31m---------------------------------------------------------------------------\u001b[0m",
      "\u001b[0;31mNameError\u001b[0m                                 Traceback (most recent call last)",
      "Cell \u001b[0;32mIn[50], line 1\u001b[0m\n\u001b[0;32m----> 1\u001b[0m prasad \u001b[38;5;241m=\u001b[39m \u001b[43mpwskills3\u001b[49m(\u001b[38;5;241m8956645\u001b[39m,\u001b[38;5;124m\"\u001b[39m\u001b[38;5;124mshama1@gmail.com\u001b[39m\u001b[38;5;124m\"\u001b[39m,\u001b[38;5;241m1245\u001b[39m)\n",
      "\u001b[0;31mNameError\u001b[0m: name 'pwskills3' is not defined"
     ]
    }
   ],
   "source": [
    "prasad = pwskills3(8956645,\"shama1@gmail.com\",1245)"
   ]
  },
  {
   "cell_type": "code",
   "execution_count": 49,
   "id": "1c8b3a10-1f59-4858-ace5-46264d870328",
   "metadata": {},
   "outputs": [
    {
     "ename": "NameError",
     "evalue": "name 'pwskills3' is not defined",
     "output_type": "error",
     "traceback": [
      "\u001b[0;31m---------------------------------------------------------------------------\u001b[0m",
      "\u001b[0;31mNameError\u001b[0m                                 Traceback (most recent call last)",
      "Cell \u001b[0;32mIn[49], line 1\u001b[0m\n\u001b[0;32m----> 1\u001b[0m prasad \u001b[38;5;241m=\u001b[39m \u001b[43mpwskills3\u001b[49m(\u001b[38;5;241m8956645\u001b[39m,\u001b[38;5;124m\"\u001b[39m\u001b[38;5;124mshama1@gmail.com\u001b[39m\u001b[38;5;124m\"\u001b[39m,\u001b[38;5;241m1245\u001b[39m)\n",
      "\u001b[0;31mNameError\u001b[0m: name 'pwskills3' is not defined"
     ]
    }
   ],
   "source": [
    "prasad = pwskills3(8956645,\"shama1@gmail.com\",1245)"
   ]
  },
  {
   "cell_type": "code",
   "execution_count": 51,
   "id": "be5f26e9-aebd-484c-8a22-35adf2716196",
   "metadata": {},
   "outputs": [
    {
     "ename": "NameError",
     "evalue": "name 'pwskills3' is not defined",
     "output_type": "error",
     "traceback": [
      "\u001b[0;31m---------------------------------------------------------------------------\u001b[0m",
      "\u001b[0;31mNameError\u001b[0m                                 Traceback (most recent call last)",
      "Cell \u001b[0;32mIn[51], line 1\u001b[0m\n\u001b[0;32m----> 1\u001b[0m prasad \u001b[38;5;241m=\u001b[39m \u001b[43mpwskills3\u001b[49m(\u001b[38;5;241m8956645\u001b[39m,\u001b[38;5;124m\"\u001b[39m\u001b[38;5;124mshama1@gmail.com\u001b[39m\u001b[38;5;124m\"\u001b[39m,\u001b[38;5;241m1245\u001b[39m)\n",
      "\u001b[0;31mNameError\u001b[0m: name 'pwskills3' is not defined"
     ]
    }
   ],
   "source": [
    "prasad = pwskills3(8956645,\"shama1@gmail.com\",1245)"
   ]
  },
  {
   "cell_type": "code",
   "execution_count": 60,
   "id": "95768e30-7dc8-47bd-864f-4e152d33c904",
   "metadata": {},
   "outputs": [],
   "source": [
    "class pwskills3:\n",
    "    \n",
    "    def __init__(pras ,phone_number , email_id , student_id ):\n",
    "        pras.phone_number = phone_number\n",
    "        pras.email_id = email_id\n",
    "        pras.student_id = student_id\n",
    "        \n",
    "    def return_student_details(pras):\n",
    "        return pras.phone_number,pras.email_id,pras.student_id"
   ]
  },
  {
   "cell_type": "code",
   "execution_count": 53,
   "id": "76fc3e6e-f05b-4c3c-8857-f90760f7c192",
   "metadata": {},
   "outputs": [],
   "source": [
    "prasad = pwskills3(8956645,\"shama1@gmail.com\",1245)"
   ]
  },
  {
   "cell_type": "code",
   "execution_count": 59,
   "id": "b79d2504-77a9-4804-8646-7bbda20dda37",
   "metadata": {},
   "outputs": [
    {
     "data": {
      "text/plain": [
       "8956645"
      ]
     },
     "execution_count": 59,
     "metadata": {},
     "output_type": "execute_result"
    }
   ],
   "source": [
    "prasad.phone_number"
   ]
  },
  {
   "cell_type": "code",
   "execution_count": 61,
   "id": "5c4ea3e1-8f8c-4c8f-af02-de1d91fa2846",
   "metadata": {},
   "outputs": [
    {
     "data": {
      "text/plain": [
       "(8956645, 'shama1@gmail.com', 1245)"
      ]
     },
     "execution_count": 61,
     "metadata": {},
     "output_type": "execute_result"
    }
   ],
   "source": [
    "prasad.return_student_details()"
   ]
  },
  {
   "cell_type": "code",
   "execution_count": 62,
   "id": "3f045020-f89f-418c-8fa8-9566a8a6b812",
   "metadata": {},
   "outputs": [],
   "source": [
    "def test(a,b):\n",
    "    return a+b"
   ]
  },
  {
   "cell_type": "code",
   "execution_count": 63,
   "id": "f1771a4d-1891-4995-8c71-6f5b3e63936f",
   "metadata": {},
   "outputs": [
    {
     "data": {
      "text/plain": [
       "9"
      ]
     },
     "execution_count": 63,
     "metadata": {},
     "output_type": "execute_result"
    }
   ],
   "source": [
    "test(4,5)"
   ]
  },
  {
   "cell_type": "code",
   "execution_count": 64,
   "id": "daa86aa1-66d5-459e-8ce0-13b884c57a21",
   "metadata": {},
   "outputs": [
    {
     "data": {
      "text/plain": [
       "'prasaprince'"
      ]
     },
     "execution_count": 64,
     "metadata": {},
     "output_type": "execute_result"
    }
   ],
   "source": [
    "test(\"prasa\",\"prince\")"
   ]
  },
  {
   "cell_type": "code",
   "execution_count": 65,
   "id": "646f9257-8014-461b-a587-865dd47b9608",
   "metadata": {},
   "outputs": [
    {
     "data": {
      "text/plain": [
       "[1, 2, 3, 4, 5, 4, 5, 6, 7, 8]"
      ]
     },
     "execution_count": 65,
     "metadata": {},
     "output_type": "execute_result"
    }
   ],
   "source": [
    "test([1,2,3,4,5],[4,5,6,7,8])"
   ]
  },
  {
   "cell_type": "code",
   "execution_count": 66,
   "id": "e60da749-0e22-4b3a-a7c7-203bad97f86c",
   "metadata": {},
   "outputs": [],
   "source": [
    "class data_science:\n",
    "    def syllabus(pras):\n",
    "        print(\"this is my method for data science syllabus\")"
   ]
  },
  {
   "cell_type": "code",
   "execution_count": 69,
   "id": "18611297-516c-4ff4-80ae-3cdbe56cd23f",
   "metadata": {},
   "outputs": [],
   "source": [
    "class web_dev:\n",
    "    def syllabus(pras):\n",
    "        print(\"this is my method for web development syllabus\")"
   ]
  },
  {
   "cell_type": "code",
   "execution_count": 70,
   "id": "23f4ba75-1b38-43d4-9af7-432703dbbcbe",
   "metadata": {},
   "outputs": [],
   "source": [
    "def class_parcer(class_obj):\n",
    "    for i in class_obj:\n",
    "        i.syllabus()"
   ]
  },
  {
   "cell_type": "code",
   "execution_count": 71,
   "id": "1b7baaed-8f37-470b-a7fe-2d214be0dfb2",
   "metadata": {},
   "outputs": [],
   "source": [
    "obj_data_science = data_science()"
   ]
  },
  {
   "cell_type": "code",
   "execution_count": 72,
   "id": "4b3eb755-8518-4ee2-a55a-ca626dfa6853",
   "metadata": {},
   "outputs": [],
   "source": [
    "obj_web_dev =web_dev()"
   ]
  },
  {
   "cell_type": "code",
   "execution_count": 73,
   "id": "9e32444b-cd83-41f9-a898-29466fcb9d76",
   "metadata": {},
   "outputs": [],
   "source": [
    "class_obj = [obj_data_science,obj_web_dev]"
   ]
  },
  {
   "cell_type": "code",
   "execution_count": 74,
   "id": "20ab9cd0-1c5e-4aba-9046-dbd15071fe1e",
   "metadata": {},
   "outputs": [
    {
     "name": "stdout",
     "output_type": "stream",
     "text": [
      "this is my method for data science syllabus\n",
      "this is my method for web development syllabus\n"
     ]
    }
   ],
   "source": [
    "class_parcer(class_obj)"
   ]
  },
  {
   "cell_type": "code",
   "execution_count": 76,
   "id": "c47d45ab-c19f-4f5f-ace0-d27cbedd2ba5",
   "metadata": {},
   "outputs": [],
   "source": [
    "class data_science:\n",
    "    def syllabus(pras):\n",
    "        print(\"this is method for dss\")"
   ]
  },
  {
   "cell_type": "code",
   "execution_count": 77,
   "id": "05b14a63-7811-4aa1-8479-171d194d9263",
   "metadata": {},
   "outputs": [],
   "source": [
    "class web_dev:\n",
    "    def syllabus(pras):\n",
    "        print(\"this is method for wd\")"
   ]
  },
  {
   "cell_type": "code",
   "execution_count": 78,
   "id": "8c99a225-9e21-41b4-83dc-d1e9adcf4817",
   "metadata": {},
   "outputs": [],
   "source": [
    "def class_parcer(class_obj):\n",
    "    for i in class_obj:\n",
    "        i.syllabus()"
   ]
  },
  {
   "cell_type": "code",
   "execution_count": 79,
   "id": "9e6adb86-8598-4a46-b68c-e310b3f54785",
   "metadata": {},
   "outputs": [],
   "source": [
    "obj_data_science = data_science()"
   ]
  },
  {
   "cell_type": "code",
   "execution_count": 80,
   "id": "f753d6d7-df2b-4a65-9567-f07f71ccc6d7",
   "metadata": {},
   "outputs": [],
   "source": [
    "obj_web_dev = web_dev()"
   ]
  },
  {
   "cell_type": "code",
   "execution_count": 81,
   "id": "c756af9f-b948-4cbe-89d9-bf5f789432e7",
   "metadata": {},
   "outputs": [],
   "source": [
    "class_obj = [obj_data_science,obj_web_dev]"
   ]
  },
  {
   "cell_type": "code",
   "execution_count": 82,
   "id": "1ff1c226-0b37-4cc4-93d1-bff2feee5c16",
   "metadata": {},
   "outputs": [
    {
     "name": "stdout",
     "output_type": "stream",
     "text": [
      "this is method for dss\n",
      "this is method for wd\n"
     ]
    }
   ],
   "source": [
    "class_parcer(class_obj)"
   ]
  },
  {
   "cell_type": "code",
   "execution_count": null,
   "id": "9787b31c-a414-44b4-a0ca-3e02853b1aaf",
   "metadata": {},
   "outputs": [],
   "source": []
  }
 ],
 "metadata": {
  "kernelspec": {
   "display_name": "Python 3 (ipykernel)",
   "language": "python",
   "name": "python3"
  },
  "language_info": {
   "codemirror_mode": {
    "name": "ipython",
    "version": 3
   },
   "file_extension": ".py",
   "mimetype": "text/x-python",
   "name": "python",
   "nbconvert_exporter": "python",
   "pygments_lexer": "ipython3",
   "version": "3.10.8"
  }
 },
 "nbformat": 4,
 "nbformat_minor": 5
}
